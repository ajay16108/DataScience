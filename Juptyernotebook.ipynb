{
    "cells": [
        {
            "cell_type": "code",
            "execution_count": 5,
            "metadata": {},
            "outputs": [
                {
                    "data": {
                        "text/html": "<div>\n<style scoped>\n    .dataframe tbody tr th:only-of-type {\n        vertical-align: middle;\n    }\n\n    .dataframe tbody tr th {\n        vertical-align: top;\n    }\n\n    .dataframe thead th {\n        text-align: right;\n    }\n</style>\n<table border=\"1\" class=\"dataframe\">\n  <thead>\n    <tr style=\"text-align: right;\">\n      <th></th>\n      <th>SEX</th>\n      <th>GEO/ACL00</th>\n      <th>Total</th>\n      <th>Personal care</th>\n      <th>Sleep</th>\n      <th>Eating</th>\n      <th>Other and/or unspecified personal care</th>\n      <th>Employment, related activities and travel as part of/during main and second job</th>\n      <th>Main and second job and related travel</th>\n      <th>Activities related to employment and unspecified employment</th>\n      <th>...</th>\n      <th>Unspecified leisure</th>\n      <th>Travel except travel related to jobs</th>\n      <th>Travel to/from work</th>\n      <th>Travel related to study</th>\n      <th>Travel related to shopping and services</th>\n      <th>Transporting a child</th>\n      <th>Travel related to other household purposes</th>\n      <th>Travel related to leisure, social and associative life</th>\n      <th>Unspecified travel</th>\n      <th>Unspecified time use</th>\n    </tr>\n  </thead>\n  <tbody>\n    <tr>\n      <th>0</th>\n      <td>Males</td>\n      <td>Belgium</td>\n      <td>24:00</td>\n      <td>10:45</td>\n      <td>8:15</td>\n      <td>1:49</td>\n      <td>0:42</td>\n      <td>3:07</td>\n      <td>3:05</td>\n      <td>0:02</td>\n      <td>...</td>\n      <td>0:01</td>\n      <td>1:30</td>\n      <td>0:25</td>\n      <td>0:02</td>\n      <td>0:16</td>\n      <td>0:03</td>\n      <td>0:00</td>\n      <td>0:15</td>\n      <td>0:30</td>\n      <td>0:01</td>\n    </tr>\n    <tr>\n      <th>1</th>\n      <td>Males</td>\n      <td>Bulgaria</td>\n      <td>24:00</td>\n      <td>11:54</td>\n      <td>9:08</td>\n      <td>2:07</td>\n      <td>0:39</td>\n      <td>3:32</td>\n      <td>3:27</td>\n      <td>0:04</td>\n      <td>...</td>\n      <td>0:01</td>\n      <td>1:07</td>\n      <td>0:23</td>\n      <td>0:00</td>\n      <td>0:12</td>\n      <td>0:01</td>\n      <td>0:06</td>\n      <td>0:21</td>\n      <td>0:03</td>\n      <td>0:02</td>\n    </tr>\n    <tr>\n      <th>2</th>\n      <td>Males</td>\n      <td>Germany (including  former GDR from 1991)</td>\n      <td>24:00</td>\n      <td>10:40</td>\n      <td>8:08</td>\n      <td>1:43</td>\n      <td>0:49</td>\n      <td>3:27</td>\n      <td>3:21</td>\n      <td>0:06</td>\n      <td>...</td>\n      <td>0:00</td>\n      <td>1:29</td>\n      <td>0:27</td>\n      <td>0:02</td>\n      <td>0:16</td>\n      <td>0:02</td>\n      <td>0:05</td>\n      <td>0:34</td>\n      <td>0:03</td>\n      <td>0:05</td>\n    </tr>\n    <tr>\n      <th>3</th>\n      <td>Males</td>\n      <td>Estonia</td>\n      <td>24:00</td>\n      <td>10:35</td>\n      <td>8:24</td>\n      <td>1:19</td>\n      <td>0:52</td>\n      <td>4:27</td>\n      <td>4:20</td>\n      <td>0:07</td>\n      <td>...</td>\n      <td>0:00</td>\n      <td>1:12</td>\n      <td>0:28</td>\n      <td>0:01</td>\n      <td>0:13</td>\n      <td>0:01</td>\n      <td>0:07</td>\n      <td>0:22</td>\n      <td>0:01</td>\n      <td>0:04</td>\n    </tr>\n    <tr>\n      <th>4</th>\n      <td>Males</td>\n      <td>Spain</td>\n      <td>24:00</td>\n      <td>11:11</td>\n      <td>8:36</td>\n      <td>1:47</td>\n      <td>0:48</td>\n      <td>4:21</td>\n      <td>4:17</td>\n      <td>0:03</td>\n      <td>...</td>\n      <td>0:00</td>\n      <td>1:16</td>\n      <td>0:31</td>\n      <td>0:02</td>\n      <td>0:07</td>\n      <td>0:02</td>\n      <td>0:03</td>\n      <td>0:28</td>\n      <td>0:02</td>\n      <td>0:02</td>\n    </tr>\n  </tbody>\n</table>\n<p>5 rows \u00d7 58 columns</p>\n</div>",
                        "text/plain": "     SEX                                  GEO/ACL00  Total Personal care  \\\n0  Males                                    Belgium  24:00         10:45   \n1  Males                                   Bulgaria  24:00         11:54   \n2  Males  Germany (including  former GDR from 1991)  24:00         10:40   \n3  Males                                    Estonia  24:00         10:35   \n4  Males                                      Spain  24:00         11:11   \n\n  Sleep Eating Other and/or unspecified personal care  \\\n0  8:15   1:49                                   0:42   \n1  9:08   2:07                                   0:39   \n2  8:08   1:43                                   0:49   \n3  8:24   1:19                                   0:52   \n4  8:36   1:47                                   0:48   \n\n  Employment, related activities and travel as part of/during main and second job  \\\n0                                               3:07                                \n1                                               3:32                                \n2                                               3:27                                \n3                                               4:27                                \n4                                               4:21                                \n\n  Main and second job and related travel  \\\n0                                   3:05   \n1                                   3:27   \n2                                   3:21   \n3                                   4:20   \n4                                   4:17   \n\n  Activities related to employment and unspecified employment  ...  \\\n0                                               0:02           ...   \n1                                               0:04           ...   \n2                                               0:06           ...   \n3                                               0:07           ...   \n4                                               0:03           ...   \n\n  Unspecified leisure  Travel except travel related to jobs  \\\n0                 0:01                                 1:30   \n1                 0:01                                 1:07   \n2                 0:00                                 1:29   \n3                 0:00                                 1:12   \n4                 0:00                                 1:16   \n\n  Travel to/from work Travel related to study  \\\n0                0:25                    0:02   \n1                0:23                    0:00   \n2                0:27                    0:02   \n3                0:28                    0:01   \n4                0:31                    0:02   \n\n  Travel related to shopping and services Transporting a child  \\\n0                                    0:16                 0:03   \n1                                    0:12                 0:01   \n2                                    0:16                 0:02   \n3                                    0:13                 0:01   \n4                                    0:07                 0:02   \n\n  Travel related to other household purposes  \\\n0                                       0:00   \n1                                       0:06   \n2                                       0:05   \n3                                       0:07   \n4                                       0:03   \n\n  Travel related to leisure, social and associative life Unspecified travel  \\\n0                                               0:15                   0:30   \n1                                               0:21                   0:03   \n2                                               0:34                   0:03   \n3                                               0:22                   0:01   \n4                                               0:28                   0:02   \n\n  Unspecified time use  \n0                 0:01  \n1                 0:02  \n2                 0:05  \n3                 0:04  \n4                 0:02  \n\n[5 rows x 58 columns]"
                    },
                    "execution_count": 5,
                    "metadata": {},
                    "output_type": "execute_result"
                }
            ],
            "source": "# The code was removed by Watson Studio for sharing."
        },
        {
            "cell_type": "code",
            "execution_count": null,
            "metadata": {},
            "outputs": [],
            "source": ""
        }
    ],
    "metadata": {
        "kernelspec": {
            "display_name": "Python 3.8",
            "language": "python",
            "name": "python3"
        },
        "language_info": {
            "codemirror_mode": {
                "name": "ipython",
                "version": 3
            },
            "file_extension": ".py",
            "mimetype": "text/x-python",
            "name": "python",
            "nbconvert_exporter": "python",
            "pygments_lexer": "ipython3",
            "version": "3.8.11"
        }
    },
    "nbformat": 4,
    "nbformat_minor": 1
}